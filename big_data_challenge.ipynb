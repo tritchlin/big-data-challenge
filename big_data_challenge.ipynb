{
  "nbformat": 4,
  "nbformat_minor": 0,
  "metadata": {
    "colab": {
      "name": "big-data-challenge.ipynb",
      "provenance": [],
      "collapsed_sections": []
    },
    "kernelspec": {
      "name": "python3",
      "display_name": "Python 3"
    },
    "language_info": {
      "name": "python"
    }
  },
  "cells": [
    {
      "cell_type": "code",
      "metadata": {
        "colab": {
          "base_uri": "https://localhost:8080/"
        },
        "id": "lgBA5YQEWQJ6",
        "outputId": "78bd8a44-33aa-4def-be37-5d111f3eecb1"
      },
      "source": [
        "import os\n",
        "\n",
        "# Install Spark and Java\n",
        "!apt-get update\n",
        "!apt-get install openjdk-8-jdk-headless -qq > /dev/null\n",
        "!wget -q https://archive.apache.org/dist/spark/spark-3.1.2/spark-3.1.2-bin-hadoop3.2.tgz\n",
        "!tar xf spark-3.1.2-bin-hadoop3.2.tgz\n",
        "\n",
        "# Set Environment Variables\n",
        "os.environ[\"JAVA_HOME\"] = \"/usr/lib/jvm/java-8-openjdk-amd64\"\n",
        "os.environ[\"SPARK_HOME\"] = \"/content/spark-3.1.2-bin-hadoop3.2\"\n",
        "\n",
        "!pip install -q findspark\n",
        "\n",
        "# Start a SparkSession\n",
        "import findspark\n",
        "findspark.init()"
      ],
      "execution_count": 1,
      "outputs": [
        {
          "output_type": "stream",
          "name": "stdout",
          "text": [
            "\r0% [Working]\r            \rIgn:1 https://developer.download.nvidia.com/compute/cuda/repos/ubuntu1804/x86_64  InRelease\n",
            "\r0% [Connecting to archive.ubuntu.com (91.189.88.152)] [Connecting to security.u\r                                                                               \rIgn:2 https://developer.download.nvidia.com/compute/machine-learning/repos/ubuntu1804/x86_64  InRelease\n",
            "Hit:3 https://developer.download.nvidia.com/compute/cuda/repos/ubuntu1804/x86_64  Release\n",
            "Hit:4 https://developer.download.nvidia.com/compute/machine-learning/repos/ubuntu1804/x86_64  Release\n",
            "Hit:5 https://cloud.r-project.org/bin/linux/ubuntu bionic-cran40/ InRelease\n",
            "Hit:6 http://archive.ubuntu.com/ubuntu bionic InRelease\n",
            "Get:8 http://security.ubuntu.com/ubuntu bionic-security InRelease [88.7 kB]\n",
            "Hit:9 http://archive.ubuntu.com/ubuntu bionic-updates InRelease\n",
            "Hit:10 http://ppa.launchpad.net/c2d4u.team/c2d4u4.0+/ubuntu bionic InRelease\n",
            "Hit:12 http://archive.ubuntu.com/ubuntu bionic-backports InRelease\n",
            "Hit:13 http://ppa.launchpad.net/cran/libgit2/ubuntu bionic InRelease\n",
            "Hit:14 http://ppa.launchpad.net/deadsnakes/ppa/ubuntu bionic InRelease\n",
            "Hit:15 http://ppa.launchpad.net/graphics-drivers/ppa/ubuntu bionic InRelease\n",
            "Fetched 88.7 kB in 2s (41.7 kB/s)\n",
            "Reading package lists... Done\n"
          ]
        }
      ]
    },
    {
      "cell_type": "code",
      "metadata": {
        "colab": {
          "base_uri": "https://localhost:8080/"
        },
        "id": "ZrDr-Q3BHvRY",
        "outputId": "e20f774b-6889-421e-92c8-04a0fcf4844b"
      },
      "source": [
        "!wget https://jdbc.postgresql.org/download/postgresql-42.2.9.jar"
      ],
      "execution_count": 2,
      "outputs": [
        {
          "output_type": "stream",
          "name": "stdout",
          "text": [
            "--2021-10-26 15:41:42--  https://jdbc.postgresql.org/download/postgresql-42.2.9.jar\n",
            "Resolving jdbc.postgresql.org (jdbc.postgresql.org)... 72.32.157.228, 2001:4800:3e1:1::228\n",
            "Connecting to jdbc.postgresql.org (jdbc.postgresql.org)|72.32.157.228|:443... connected.\n",
            "HTTP request sent, awaiting response... 200 OK\n",
            "Length: 914037 (893K) [application/java-archive]\n",
            "Saving to: ‘postgresql-42.2.9.jar.4’\n",
            "\n",
            "postgresql-42.2.9.j 100%[===================>] 892.61K  5.47MB/s    in 0.2s    \n",
            "\n",
            "2021-10-26 15:41:43 (5.47 MB/s) - ‘postgresql-42.2.9.jar.4’ saved [914037/914037]\n",
            "\n"
          ]
        }
      ]
    },
    {
      "cell_type": "code",
      "metadata": {
        "colab": {
          "base_uri": "https://localhost:8080/"
        },
        "id": "tqBmcRIgaurY",
        "outputId": "3aba4ef1-75ab-43b6-d735-768a0dafe770"
      },
      "source": [
        " # Start Spark session\n",
        "from pyspark.sql import SparkSession\n",
        "from pyspark.sql.types import StructField, StringType, IntegerType, StructType, DateType\n",
        "from pyspark import SparkFiles\n",
        "from pyspark.sql.functions import col\n",
        "\n",
        "\n",
        "# Read in data from S3 Bukets\n",
        "spark = SparkSession.builder.appName(\"AmazonReviews_PetProducts\").config(\"spark.driver.extraClassPath\",\"/content/postgresql-42.2.9.jar\").getOrCreate()\n",
        "url= \"https://s3.amazonaws.com/amazon-reviews-pds/tsv/amazon_reviews_us_Pet_Products_v1_00.tsv.gz\"\n",
        "spark.sparkContext.addFile(url)\n",
        "df = spark.read.csv(SparkFiles.get('amazon_reviews_us_Pet_Products_v1_00.tsv.gz'), sep='\\t', header=True, inferSchema=True)\n",
        "df.show(n=5,truncate=False)"
      ],
      "execution_count": 3,
      "outputs": [
        {
          "output_type": "stream",
          "name": "stdout",
          "text": [
            "+-----------+-----------+--------------+----------+--------------+--------------------------------------------------------------------------------------------------------+----------------+-----------+-------------+-----------+----+-----------------+-------------------------------------------------+------------------------------------------------------------------------------------------------------------------------------------------------------------------------------------------------------------------------------------------------------------+-----------+\n",
            "|marketplace|customer_id|review_id     |product_id|product_parent|product_title                                                                                           |product_category|star_rating|helpful_votes|total_votes|vine|verified_purchase|review_headline                                  |review_body                                                                                                                                                                                                                                                 |review_date|\n",
            "+-----------+-----------+--------------+----------+--------------+--------------------------------------------------------------------------------------------------------+----------------+-----------+-------------+-----------+----+-----------------+-------------------------------------------------+------------------------------------------------------------------------------------------------------------------------------------------------------------------------------------------------------------------------------------------------------------+-----------+\n",
            "|US         |28794885   |REAKC26P07MDN |B00Q0K9604|510387886     |(8-Pack) EZwhelp Belly Band/Wrap                                                                        |Pet Products    |5          |0            |0          |N   |Y                |A great purchase for \"dribbly\" dogs              |Best belly bands on the market!  These are a great deal for an 8 pack.  Before we had 2 of another brand and we were constantly washing them and the velcro kept getting loose.  These are secure and with 8 in a pack, you can put on a fresh one each day.|2015-08-31 |\n",
            "|US         |11488901   |R3NU7OMZ4HQIEG|B00MBW5O9W|912374672     |Warren Eckstein's Hugs & Kisses Vitamin Mineral Supplement Treat for Dogs                               |Pet Products    |2          |0            |1          |N   |Y                |My dogs love Hugs and Kisses                     |My dogs love Hugs and Kisses.  However, the last time I bought a $40.00+ bottle from Amazon....something was wrong with them.  They are all stuck together and seemed moist.  Usually they are not.  Had to throw them out.                                 |2015-08-31 |\n",
            "|US         |43214993   |R14QJW3XF8QO1P|B0084OHUIO|902215727     |Tyson's True Chews Premium Jerky - 12 ounce Chicken                                                     |Pet Products    |5          |0            |0          |N   |Y                |I have been purchasing these for a long time. ...|I have been purchasing these for a long time.  I havae 3 GSD and a Cane Corso and a Poodle.  When they get up in the morning after letting them out...they stand in line waiting for this treat....This holds them off a while until I make breakfast.      |2015-08-31 |\n",
            "|US         |12835065   |R2HB7AX0394ZGY|B001GS71K2|568880110     |Soft Side Pet Crate, Navy/Tan                                                                           |Pet Products    |5          |0            |0          |N   |Y                |it is easy to open and close                     |It is extremely well constructed, it is easy to open and close. my dog enjoys her hideaway!                                                                                                                                                                 |2015-08-31 |\n",
            "|US         |26334022   |RGKMPDQGSAHR3 |B004ABH1LG|692846826     |EliteField 3-Door Folding Soft Dog Crate, Indoor & Outdoor Pet Home, Multiple Sizes and Colors Available|Pet Products    |5          |0            |0          |N   |Y                |Dog crate                                        |Worked really well.  Very pleased with my purchase.                                                                                                                                                                                                         |2015-08-31 |\n",
            "+-----------+-----------+--------------+----------+--------------+--------------------------------------------------------------------------------------------------------+----------------+-----------+-------------+-----------+----+-----------------+-------------------------------------------------+------------------------------------------------------------------------------------------------------------------------------------------------------------------------------------------------------------------------------------------------------------+-----------+\n",
            "only showing top 5 rows\n",
            "\n"
          ]
        }
      ]
    },
    {
      "cell_type": "code",
      "metadata": {
        "colab": {
          "base_uri": "https://localhost:8080/"
        },
        "id": "EYr1gzIkc3hC",
        "outputId": "79eac25b-bb54-4351-ce5b-ae37293510ee"
      },
      "source": [
        "# Current schema type\n",
        "df.printSchema()"
      ],
      "execution_count": 4,
      "outputs": [
        {
          "output_type": "stream",
          "name": "stdout",
          "text": [
            "root\n",
            " |-- marketplace: string (nullable = true)\n",
            " |-- customer_id: integer (nullable = true)\n",
            " |-- review_id: string (nullable = true)\n",
            " |-- product_id: string (nullable = true)\n",
            " |-- product_parent: integer (nullable = true)\n",
            " |-- product_title: string (nullable = true)\n",
            " |-- product_category: string (nullable = true)\n",
            " |-- star_rating: integer (nullable = true)\n",
            " |-- helpful_votes: integer (nullable = true)\n",
            " |-- total_votes: integer (nullable = true)\n",
            " |-- vine: string (nullable = true)\n",
            " |-- verified_purchase: string (nullable = true)\n",
            " |-- review_headline: string (nullable = true)\n",
            " |-- review_body: string (nullable = true)\n",
            " |-- review_date: string (nullable = true)\n",
            "\n"
          ]
        }
      ]
    },
    {
      "cell_type": "code",
      "metadata": {
        "colab": {
          "base_uri": "https://localhost:8080/"
        },
        "id": "PTOwkgtsc7Qz",
        "outputId": "1cd1239a-2082-44fe-96b1-be881cc034c7"
      },
      "source": [
        "# Count number of rows in dataset\n",
        "df.count()"
      ],
      "execution_count": 5,
      "outputs": [
        {
          "output_type": "execute_result",
          "data": {
            "text/plain": [
              "2643619"
            ]
          },
          "metadata": {},
          "execution_count": 5
        }
      ]
    },
    {
      "cell_type": "code",
      "metadata": {
        "colab": {
          "base_uri": "https://localhost:8080/"
        },
        "id": "n3QCp4WddxhZ",
        "outputId": "aea21806-36bd-4145-db7d-ac1ea58f6cd4"
      },
      "source": [
        "# Create review_id_table and verify schema\n",
        "review_id_table = df.select(df.review_id, df.customer_id, df.product_id, df.product_parent, df.review_date.astype(dataType=DateType()))\n",
        "review_id_table.printSchema()"
      ],
      "execution_count": 6,
      "outputs": [
        {
          "output_type": "stream",
          "name": "stdout",
          "text": [
            "root\n",
            " |-- review_id: string (nullable = true)\n",
            " |-- customer_id: integer (nullable = true)\n",
            " |-- product_id: string (nullable = true)\n",
            " |-- product_parent: integer (nullable = true)\n",
            " |-- review_date: date (nullable = true)\n",
            "\n"
          ]
        }
      ]
    },
    {
      "cell_type": "code",
      "metadata": {
        "colab": {
          "base_uri": "https://localhost:8080/"
        },
        "id": "HRAawRV_hXkj",
        "outputId": "5f7cf257-d8fb-4426-f514-dcbaaa0a7f0c"
      },
      "source": [
        "# Create products table and verify schema\n",
        "products = df.select(df.product_id, df.product_title)\n",
        "products.printSchema()"
      ],
      "execution_count": 7,
      "outputs": [
        {
          "output_type": "stream",
          "name": "stdout",
          "text": [
            "root\n",
            " |-- product_id: string (nullable = true)\n",
            " |-- product_title: string (nullable = true)\n",
            "\n"
          ]
        }
      ]
    },
    {
      "cell_type": "code",
      "metadata": {
        "colab": {
          "base_uri": "https://localhost:8080/"
        },
        "id": "fmArFmfIhrP0",
        "outputId": "69c181e1-8842-4816-b2f4-ba966670e60d"
      },
      "source": [
        "# Create customers table and verify schema\n",
        "customers = df.groupBy('customer_id').count().withColumn('count',col('count').cast(IntegerType()))\n",
        "customers.printSchema()"
      ],
      "execution_count": 8,
      "outputs": [
        {
          "output_type": "stream",
          "name": "stdout",
          "text": [
            "root\n",
            " |-- customer_id: integer (nullable = true)\n",
            " |-- count: integer (nullable = false)\n",
            "\n"
          ]
        }
      ]
    },
    {
      "cell_type": "code",
      "metadata": {
        "colab": {
          "base_uri": "https://localhost:8080/"
        },
        "id": "Y9BkyhoJ3EeZ",
        "outputId": "285a3acf-35f0-4cbf-db91-2c1c611f61b0"
      },
      "source": [
        "# Create vine_table and verify schema\n",
        "vine_table = df.select(df.review_id, df.star_rating, df.helpful_votes, df.total_votes, df.vine)\n",
        "vine_table.printSchema()\n"
      ],
      "execution_count": 9,
      "outputs": [
        {
          "output_type": "stream",
          "name": "stdout",
          "text": [
            "root\n",
            " |-- review_id: string (nullable = true)\n",
            " |-- star_rating: integer (nullable = true)\n",
            " |-- helpful_votes: integer (nullable = true)\n",
            " |-- total_votes: integer (nullable = true)\n",
            " |-- vine: string (nullable = true)\n",
            "\n"
          ]
        }
      ]
    },
    {
      "cell_type": "code",
      "metadata": {
        "id": "ce4dbx2QGMgE"
      },
      "source": [
        "# Configuration for RDS instance\n",
        "mode=\"append\"\n",
        "jdbc_url = \"jdbc:postgresql://mypostgresdb.cryub0wqjex7.us-east-2.rds.amazonaws.com:5432/my_data_class_db\"\n",
        "config = {\"user\":\"root\",\n",
        "          \"password\": \"g1EC1QdWl\",\n",
        "          \"driver\":\"org.postgresql.Driver\"}"
      ],
      "execution_count": 10,
      "outputs": []
    },
    {
      "cell_type": "code",
      "metadata": {
        "id": "MCDJLMZDLvNs"
      },
      "source": [
        "# Write dataframes to RDS\n",
        "review_id_table.write.jdbc(url=jdbc_url,\n",
        "                         table ='review_id_table', \n",
        "                         mode=mode, properties = config)"
      ],
      "execution_count": null,
      "outputs": []
    },
    {
      "cell_type": "code",
      "metadata": {
        "id": "rqreWWzmLyjK"
      },
      "source": [
        "products.write.jdbc(url=jdbc_url,\n",
        "                         table ='products', \n",
        "                         mode=mode, properties = config)"
      ],
      "execution_count": null,
      "outputs": []
    },
    {
      "cell_type": "code",
      "metadata": {
        "id": "6IZfnRrHL1OH"
      },
      "source": [
        "customers.write.jdbc(url=jdbc_url,\n",
        "                         table ='customers', \n",
        "                         mode=mode, properties = config)"
      ],
      "execution_count": null,
      "outputs": []
    },
    {
      "cell_type": "code",
      "metadata": {
        "id": "fjPiW0kyL5NR"
      },
      "source": [
        "vine_table.write.jdbc(url=jdbc_url,\n",
        "                         table ='vine_table', \n",
        "                         mode=mode, properties = config)"
      ],
      "execution_count": null,
      "outputs": []
    }
  ]
}